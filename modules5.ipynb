{
  "nbformat": 4,
  "nbformat_minor": 0,
  "metadata": {
    "colab": {
      "provenance": []
    },
    "kernelspec": {
      "name": "python3",
      "display_name": "Python 3"
    },
    "language_info": {
      "name": "python"
    }
  },
  "cells": [
    {
      "cell_type": "markdown",
      "source": [
        "#1. List out the features of HTML5.\n",
        "ans. Html5 is the advance version of Html some key features are mentioned below;\n",
        "1. Html5 has some new tags like article aside and figure.\n",
        "2. Better Error handling.\n",
        "3. Html5 is designed to create structured web content."
      ],
      "metadata": {
        "id": "YubRJRlJgdC1"
      }
    },
    {
      "cell_type": "markdown",
      "source": [
        "#2. What are HTML Entities? List out 5 commonly used HTML entities?\n",
        "Ans. Html Entities are special codes that are reserved to display special characters.\n",
        "5 commonly used HTmL entites are;\n",
        "@nbsp; for space.\n",
        "@copy; For Copyright symbol.\n",
        "@trade; For Trademark symbol.\n",
        "@reg; For registered symbol.\n",
        "@lt; for less than symbol.\n",
        "@gt; For more than symbol."
      ],
      "metadata": {
        "id": "21eugDWyiD-W"
      }
    },
    {
      "cell_type": "markdown",
      "source": [
        "#3. Define accessibility in the context of web development. Discuss why it's essential to create accessible websites and how it benefits different user group.\n",
        "Ans. Accessibility in the context of web development means website would be accessible to everyone even if they have disability they can easily interact and access the website.It is very essential because with the help of it disable person can also interact and access. It can be done by Semantic tags and use alt tags in image to define the image. After using semantic tags we can check it by text readers software."
      ],
      "metadata": {
        "id": "KyFZRTuwjkjU"
      }
    },
    {
      "cell_type": "markdown",
      "source": [
        "#4. List any 3 ways which help us in improving the accessibility of HTM1.\n",
        "The three ways to improve the accessibilty of Html are mentioned below;\n",
        "1. Use semantic tags\n",
        "2. Use alt text in image.\n",
        "3. Use Screen reader software to check it accessibility"
      ],
      "metadata": {
        "id": "apd8BtTek08s"
      }
    },
    {
      "cell_type": "markdown",
      "source": [
        "#5. Create a web page that highlights the features of HTML5. Use appropriate semantic tags to structure the content and showcase at least three key features of HTML5 with explanations."
      ],
      "metadata": {
        "id": "cgfI9M7imAw-"
      }
    },
    {
      "cell_type": "code",
      "source": [
        "from IPython.display import HTML\n",
        "\n",
        "html=\"\"\"\n",
        "\n",
        "<html>\n",
        "    <head>\n",
        "        <title>Semantic Website</title>\n",
        "    </head>\n",
        "    <body>\n",
        "        <h1>Features of HTML5</h1>\n",
        "        <h2>1</h2><mark>HTML5 is the advance version of HTML</mark>\n",
        "        <h2>2</h2><mark>HTML5 has some new tags like footer, article, aside</mark>\n",
        "        <h2>3</h2><mark>Better error handling</mark>\n",
        "        <h2>4</h2><mark>Design to create structured webpage.</mark>\n",
        "        <br>\n",
        "\n",
        "    </body>\n",
        "</html>\n",
        "\n",
        "\"\"\""
      ],
      "metadata": {
        "id": "YqxTWBmdmOKS"
      },
      "execution_count": 3,
      "outputs": []
    },
    {
      "cell_type": "markdown",
      "source": [
        "#6. Create a simple web page which has a table. The table must have 2 columns HTML and HTML5. The table should include a minimum of three rows describing the differences between HTML and HTML5."
      ],
      "metadata": {
        "id": "HGbGSCBVoPHs"
      }
    },
    {
      "cell_type": "code",
      "source": [
        "from IPython.display import HTML\n",
        "\n",
        "html=\"\"\"\n",
        "<html>\n",
        "    <head>\n",
        "        <title>Table</title>\n",
        "    </head>\n",
        "    <body>\n",
        "        <table border=\"1px\" cellpadding=\"20\" cellspacing=\"6\" >\n",
        "            <tr>\n",
        "                <th>S.NO</th>\n",
        "                <th>HTML</th>\n",
        "                <th>HTML 5</th>\n",
        "            </tr>\n",
        "            <tr>\n",
        "                <td>1</td>\n",
        "                <td>It do not support the video and audio tags</td>\n",
        "                <td>It support the video and audio tags</td>\n",
        "            </tr>\n",
        "            <tr>\n",
        "                <td>2</td>\n",
        "                <td>It is less mobile friendly</td>\n",
        "                <td>It is more mobile friendly</td>\n",
        "            </tr>\n",
        "            <tr>\n",
        "                <td>2</td>\n",
        "                <td>Does not allow javascript to run in browser</td>\n",
        "                <td>It allow javascript to run in background.</td>\n",
        "            </tr>\n",
        "        </table>\n",
        "\n",
        "\n",
        "    </body>\n",
        "</html>\n",
        "\"\"\""
      ],
      "metadata": {
        "id": "6VITdgNjocm_"
      },
      "execution_count": 5,
      "outputs": []
    }
  ]
}